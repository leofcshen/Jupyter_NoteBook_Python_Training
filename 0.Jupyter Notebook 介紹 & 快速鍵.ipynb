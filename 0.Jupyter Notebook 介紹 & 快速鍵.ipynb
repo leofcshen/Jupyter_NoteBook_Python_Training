{
 "cells": [
  {
   "cell_type": "code",
   "execution_count": 28,
   "id": "788bbf85",
   "metadata": {},
   "outputs": [
    {
     "data": {
      "text/html": [
       "<style>     \n",
       "    table {display: inline-block}\n",
       "</style>\n",
       "\n",
       "# 讓 table 靠左\n"
      ],
      "text/plain": [
       "<IPython.core.display.HTML object>"
      ]
     },
     "metadata": {},
     "output_type": "display_data"
    }
   ],
   "source": [
    "%%html\n",
    "<style>     \n",
    "    table {display: inline-block}\n",
    "</style>\n",
    "\n",
    "# 讓 table 靠左\n"
   ]
  },
  {
   "cell_type": "markdown",
   "id": "e4409b8f",
   "metadata": {},
   "source": [
    "# cell：單元、單元格，有三種 cell 類型\n",
    "- Code(編輯代碼，運行後顯示結果)\n",
    "- Markdown(編輯 Markdown 文檔，運行後輸出 Markdown 格式文檔)\n",
    "- Raw NBConvert(普通文檔，運行不會輸出結果)\n",
    "\n",
    "# 命令模式 Command Mode (於編輯模式的 cell 按 Esc，單元格會變藍色)\n",
    "\n",
    "\n",
    "| 功能 | 快速鍵 | 說明\n",
    "| :--- | :---------: | ---\n",
    "| 查看快速鍵 | H | \n",
    "| 尋找與取代 | F | \n",
    "| open the command palette| P<br>Ctrl-Shift-F<br>Ctrl-Shift-P |\n",
    "| 進入編輯模式 | Enter |\n",
    "| 執行 cell，選取下一個 cell | Shift-Enter |\n",
    "| 執行選中的 cells | Ctrl-Enter |\n",
    "| 執行 cell，下方新增 cell | Alt-Enter |\n",
    "| 切換 cell 類型 Code | Y |\n",
    "| 切換 cell 類型 Markdown | M |\n",
    "| 切換 cell 類型 Raw | R |\n",
    "| 選取上一個 cell | Up<br>K |\n",
    "| 選取下一個 cell | Down<br>J |\n",
    "| 增加選取上一個 cell | Shift-Up<br>Shift-K |\n",
    "| 增加選取下一個 cell | Shift-Down<br>Shift-J |\n",
    "| 選取所有 cell | Ctrl-A |\n",
    "| 上方插入一個 cell | A |\n",
    "| 下方插入一個 cell | B |\n",
    "| 剪下選取的 cells | X |\n",
    "| 複製選取的 cells | C |\n",
    "| 上方貼上 cells | Shift-V |\n",
    "| 下方貼上 cells | V |\n",
    "| 刪除選取的 cells | DD |\n",
    "| 還原刪除或剪下 | Z |\n",
    "| 合併選取的 cells | Shitf-M | 如果只有選取一個 cell ，向下合併一個 cell。 |\n",
    "| 儲存並設記錄點 | S<br>Ctrl-S |\n",
    "| 切換選取的 cells 顯示行數 | L |\n",
    "| 切換選取的 cells 輸出顯示 | O |\n",
    "| 切換選取的 cells 輸出捲軸 | Shift-O |\n",
    "| 中斷 Jupyter Notebook Kernel | II |\n",
    "| 重啟 Jupyter Notebook Kernel (with dialog) | 00 |\n",
    "| 切換所有的 cells 顯示行數 | Shift-L |\n",
    "| 捲軸向上滾動 | Shift-Space |\n",
    "| 捲軸向下滾動 | Space |\n",
    "\n",
    "\n",
    "\n",
    "\n",
    "# 編輯模式 Edit Mode (於命令模式的 cell 按 Enter，單元格會變綠色)\n",
    "\n",
    "| 功能 | 快速鍵 | 說明\n",
    "| :--- | :---------: | ---\n",
    "| 程式碼自動完成 | Tab |\n",
    "| 工具提示 | Shift-Tab |\n",
    "| 縮排 | Tab <br> Ctrl-] |\n",
    "| 反縮排 | Shift-Tab <br> Ctrl-\\[ |\n",
    "| 全選 | Ctrl-A |\n",
    "| 還原 | Ctrl-Z |\n",
    "| 復原還原 | Ctrl-Y |\n",
    "| 註解 | Ctrl-/ |\n",
    "| 刪除整行 | Ctrl-D <br> Ctrl-X |\n",
    "| 跳到 cell 開頭 | Ctrl-Home |\n",
    "| 跳到 cell 結束 | Ctrl-End |\n",
    "| 跳到單字開頭 | Ctrl-Left |\n",
    "| 跳到單字結尾 | Ctrl-Right |\n",
    "| 刪除目前到單字開頭 | Ctrl-Backspace |\n",
    "| 刪除目前到單字結尾 | Ctrl-Delete |\n",
    "| 切換到命令模式 | Esc <br> Ctrl-M |\n",
    "| open the command palette| Ctrl-Shift-F<br>Ctrl-Shift-P |\n",
    "| 執行 cell，選取下一個 cell | Shift-Enter |\n",
    "| 執行選中的 cells | Ctrl-Enter |\n",
    "| 執行 cell，下方新增 cell | Alt-Enter |\n",
    "| 從游標處分割 cell | Ctrl-Shift-Minus | 如果游標為選取字段會分割成三個 cell\n",
    "| 儲存並設記錄點 | Ctrl-S |\n",
    "\n",
    "\n"
   ]
  },
  {
   "cell_type": "code",
   "execution_count": null,
   "id": "3828738d",
   "metadata": {},
   "outputs": [],
   "source": [
    "print(\"aa\")\n",
    "print"
   ]
  },
  {
   "cell_type": "code",
   "execution_count": null,
   "id": "2f86c6d2",
   "metadata": {},
   "outputs": [],
   "source": [
    "print(\""
   ]
  },
  {
   "cell_type": "code",
   "execution_count": null,
   "id": "32a02069",
   "metadata": {},
   "outputs": [],
   "source": [
    "aa"
   ]
  },
  {
   "cell_type": "code",
   "execution_count": 3,
   "id": "ac72398f",
   "metadata": {
    "scrolled": false
   },
   "outputs": [
    {
     "name": "stdout",
     "output_type": "stream",
     "text": [
      "aaa\n",
      "bbac\n"
     ]
    }
   ],
   "source": [
    "print(\"aaa\")\n",
    "print(\"bbac\")\n"
   ]
  },
  {
   "cell_type": "code",
   "execution_count": null,
   "id": "ed92d22c",
   "metadata": {},
   "outputs": [],
   "source": []
  },
  {
   "cell_type": "code",
   "execution_count": null,
   "id": "fda6212e",
   "metadata": {},
   "outputs": [],
   "source": [
    "aab"
   ]
  },
  {
   "cell_type": "code",
   "execution_count": null,
   "id": "71b6b37c",
   "metadata": {},
   "outputs": [],
   "source": [
    "555"
   ]
  }
 ],
 "metadata": {
  "kernelspec": {
   "display_name": "Python 3 (ipykernel)",
   "language": "python",
   "name": "python3"
  },
  "language_info": {
   "codemirror_mode": {
    "name": "ipython",
    "version": 3
   },
   "file_extension": ".py",
   "mimetype": "text/x-python",
   "name": "python",
   "nbconvert_exporter": "python",
   "pygments_lexer": "ipython3",
   "version": "3.9.4"
  }
 },
 "nbformat": 4,
 "nbformat_minor": 5
}
